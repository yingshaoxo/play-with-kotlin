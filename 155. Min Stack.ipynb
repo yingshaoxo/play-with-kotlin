{
 "cells": [
  {
   "cell_type": "markdown",
   "metadata": {},
   "source": [
    "https://leetcode.com/problems/min-stack\n",
    "\n",
    "\n",
    "Runtime: 456 ms, faster than 22.02% of Kotlin online submissions for Min Stack.\n",
    "Memory Usage: 55.5 MB, less than 19.27% of Kotlin online submissions for Min Stack.\n",
    "\n",
    "\n",
    "\n",
    "```kotlin\n",
    "class MinStack() {\n",
    "    /** initialize your data structure here. */\n",
    "    var stack: ArrayList<Int> = ArrayList()\n",
    "\n",
    "    /*\n",
    "    constructor(minstack: MinStack) {\n",
    "        minstack.stack = ArrayList()\n",
    "    }\n",
    "     */\n",
    "\n",
    "    fun push(x: Int) {\n",
    "        this.stack.add(x)\n",
    "    }\n",
    "\n",
    "    fun pop() {\n",
    "        this.stack.removeAt(this.stack.size - 1)\n",
    "    }\n",
    "\n",
    "    fun top(): Int {\n",
    "        return this.stack.get(this.stack.size - 1)\n",
    "    }\n",
    "\n",
    "    fun getMin(): Int? {\n",
    "        return this.stack.toList().min()\n",
    "    }\n",
    "}\n",
    "```"
   ]
  },
  {
   "cell_type": "code",
   "execution_count": null,
   "metadata": {},
   "outputs": [],
   "source": []
  }
 ],
 "metadata": {
  "kernelspec": {
   "display_name": "Kotlin",
   "language": "kotlin",
   "name": "kotlin"
  },
  "language_info": {
   "codemirror_mode": "text/x-kotlin",
   "file_extension": ".kt",
   "mimetype": "text/x-kotlin",
   "name": "kotlin",
   "pygments_lexer": "kotlin",
   "version": "1.4.30-dev-2223"
  }
 },
 "nbformat": 4,
 "nbformat_minor": 4
}
