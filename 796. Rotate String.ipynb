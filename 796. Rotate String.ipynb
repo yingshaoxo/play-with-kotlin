{
 "cells": [
  {
   "cell_type": "markdown",
   "metadata": {},
   "source": [
    "https://leetcode.com/problems/rotate-string\n",
    "\n",
    "\n",
    "\n",
    "Runtime: 136 ms, faster than 90.00% of Kotlin online submissions for Rotate String.\n",
    "Memory Usage: 34.6 MB, less than 20.00% of Kotlin online submissions for Rotate String.\n",
    "\n",
    "\n",
    "\n",
    "```kotlin\n",
    "class Solution {\n",
    "    fun rotateString(A: String, B: String): Boolean {\n",
    "        if (A == \"\" && B == \"\") {\n",
    "            return true;\n",
    "        }\n",
    "        if (A.length != B.length) {\n",
    "            return false;\n",
    "        }\n",
    "\n",
    "        var A = A\n",
    "        for ((i, _) in A.withIndex()) {\n",
    "            A = A.substring(1, A.length) + A.substring(0, 1)\n",
    "            if (A.equals(B)) {\n",
    "                return true;\n",
    "            }\n",
    "        }\n",
    "        return false;\n",
    "    }\n",
    "}\n",
    "\n",
    "fun main(args: Array<String>) {\n",
    "    var s = Solution()\n",
    "    println(s.rotateString(\"abc\", \"bca\"))\n",
    "}\n",
    "\n",
    "```\n"
   ]
  },
  {
   "cell_type": "code",
   "execution_count": null,
   "metadata": {},
   "outputs": [],
   "source": []
  }
 ],
 "metadata": {
  "kernelspec": {
   "display_name": "Kotlin",
   "language": "kotlin",
   "name": "kotlin"
  },
  "language_info": {
   "codemirror_mode": "text/x-kotlin",
   "file_extension": ".kt",
   "mimetype": "text/x-kotlin",
   "name": "kotlin",
   "pygments_lexer": "kotlin",
   "version": "1.4.30-dev-2223"
  }
 },
 "nbformat": 4,
 "nbformat_minor": 4
}
