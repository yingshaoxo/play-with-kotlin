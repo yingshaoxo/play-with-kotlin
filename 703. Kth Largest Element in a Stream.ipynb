{
 "cells": [
  {
   "cell_type": "markdown",
   "metadata": {},
   "source": [
    "https://leetcode.com/problems/kth-largest-element-in-a-stream\n",
    "\n",
    "\n",
    "Runtime: 1028 ms, faster than 14.03% of Kotlin online submissions for Kth Largest Element in a Stream.\n",
    "Memory Usage: 65.6 MB, less than 5.26% of Kotlin online submissions for Kth Largest Element in a Stream.\n",
    "\n",
    "\n",
    "```kotlin\n",
    "class KthLargest(k: Int, nums: IntArray) {\n",
    "    var stream: ArrayList<Int> = arrayListOf(*nums.toTypedArray())\n",
    "    val k: Int = k\n",
    "\n",
    "    fun add(`val`: Int): Int {\n",
    "\n",
    "        this.stream.add(`val`)\n",
    "        this.stream.sort()\n",
    "        return this.stream[this.stream.size - this.k]\n",
    "    }\n",
    "}\n",
    "```"
   ]
  },
  {
   "cell_type": "code",
   "execution_count": null,
   "metadata": {},
   "outputs": [],
   "source": []
  }
 ],
 "metadata": {
  "kernelspec": {
   "display_name": "Kotlin",
   "language": "kotlin",
   "name": "kotlin"
  },
  "language_info": {
   "codemirror_mode": "text/x-kotlin",
   "file_extension": ".kt",
   "mimetype": "text/x-kotlin",
   "name": "kotlin",
   "pygments_lexer": "kotlin",
   "version": "1.4.30-dev-2223"
  }
 },
 "nbformat": 4,
 "nbformat_minor": 4
}
