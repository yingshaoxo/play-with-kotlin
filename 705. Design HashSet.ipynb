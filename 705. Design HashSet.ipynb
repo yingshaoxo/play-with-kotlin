{
 "cells": [
  {
   "cell_type": "markdown",
   "metadata": {},
   "source": [
    "https://leetcode.com/problems/design-hashset/\n",
    "\n",
    "\n",
    "Runtime: 728 ms, faster than 18.75% of Kotlin online submissions for Design HashSet.\n",
    "Memory Usage: 93.2 MB, less than 12.50% of Kotlin online submissions for Design HashSet.\n",
    "\n",
    "\n",
    "\n",
    "```kotlin\n",
    "class MyHashSet() {\n",
    "    var m = HashMap<Int, Boolean>()\n",
    "    fun add(key: Int) {\n",
    "        m.put(key, true)\n",
    "    }\n",
    "    fun remove(key: Int) {\n",
    "        m.remove(key)\n",
    "    }\n",
    "    fun contains(key: Int): Boolean {\n",
    "        return m.containsKey(key)\n",
    "    }\n",
    "}\n",
    "```"
   ]
  },
  {
   "cell_type": "code",
   "execution_count": null,
   "metadata": {},
   "outputs": [],
   "source": []
  }
 ],
 "metadata": {
  "kernelspec": {
   "display_name": "Kotlin",
   "language": "kotlin",
   "name": "kotlin"
  },
  "language_info": {
   "codemirror_mode": "text/x-kotlin",
   "file_extension": ".kt",
   "mimetype": "text/x-kotlin",
   "name": "kotlin",
   "pygments_lexer": "kotlin",
   "version": "1.4.30-dev-2223"
  }
 },
 "nbformat": 4,
 "nbformat_minor": 4
}
