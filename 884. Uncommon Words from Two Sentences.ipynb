{
 "cells": [
  {
   "cell_type": "markdown",
   "metadata": {},
   "source": [
    "https://leetcode.com/problems/uncommon-words-from-two-sentences\n",
    "\n",
    "\n",
    "Runtime: 200 ms, faster than 14.29% of Kotlin online submissions for Uncommon Words from Two Sentences.\n",
    "Memory Usage: 36.1 MB, less than 57.14% of Kotlin online submissions for Uncommon Words from Two Sentences.\n",
    "\n",
    "\n",
    "\n",
    "```kotlin\n",
    "class Solution {\n",
    "    var c = HashMap<String, Int>()\n",
    "\n",
    "    fun updateCounter(l: List<String>) {\n",
    "        for (v in l) {\n",
    "            if (c.contains(v)) {\n",
    "                c.get(v)?.plus(1)?.let { c.put(v, it) }\n",
    "            } else {\n",
    "                c[v] = 1\n",
    "            }\n",
    "        }\n",
    "    }\n",
    "\n",
    "    fun uncommonFromSentences(A: String, B: String): Array<String> {\n",
    "        var a = A.split(\" \")\n",
    "        var b = B.split(\" \")\n",
    "        updateCounter(a)\n",
    "        updateCounter(b)\n",
    "        var r = ArrayList<String>()\n",
    "        for ((k,v) in c) {\n",
    "            if (v == 1) {\n",
    "                r.add(k)\n",
    "            }\n",
    "        }\n",
    "        return r.toTypedArray()\n",
    "    }\n",
    "}\n",
    "```"
   ]
  },
  {
   "cell_type": "code",
   "execution_count": null,
   "metadata": {},
   "outputs": [],
   "source": []
  }
 ],
 "metadata": {
  "kernelspec": {
   "display_name": "Kotlin",
   "language": "kotlin",
   "name": "kotlin"
  },
  "language_info": {
   "codemirror_mode": "text/x-kotlin",
   "file_extension": ".kt",
   "mimetype": "text/x-kotlin",
   "name": "kotlin",
   "pygments_lexer": "kotlin",
   "version": "1.4.30-dev-2223"
  }
 },
 "nbformat": 4,
 "nbformat_minor": 4
}
