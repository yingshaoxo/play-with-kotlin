{
 "cells": [
  {
   "cell_type": "markdown",
   "metadata": {},
   "source": [
    "https://leetcode.com/problems/backspace-string-compare\n",
    "\n",
    "\n",
    "\n",
    "Runtime: 172 ms, faster than 11.11% of Kotlin online submissions for Backspace String Compare.\n",
    "Memory Usage: 35.4 MB, less than 7.41% of Kotlin online submissions for Backspace String Compare.\n",
    "\n",
    "\n",
    "\n",
    "```kotlin\n",
    "class Solution {\n",
    "    fun inputBox(s: String): String {\n",
    "        var r = \"\"\n",
    "        for ((i, c) in s.withIndex()) {\n",
    "            if (c == '#') {\n",
    "                if (r.length > 0) {\n",
    "                    r = r.dropLast(1)\n",
    "                }\n",
    "            } else {\n",
    "                r = r.plus(c)\n",
    "            }\n",
    "        }\n",
    "        return r\n",
    "    }\n",
    "\n",
    "    fun backspaceCompare(S: String, T: String): Boolean {\n",
    "        return inputBox(S) == inputBox(T)\n",
    "    }\n",
    "}\n",
    "\n",
    "fun main(args: Array<String>) {\n",
    "    var s = Solution()\n",
    "    println(s.backspaceCompare(\"abc\", \"bca\"))\n",
    "}\n",
    "```"
   ]
  },
  {
   "cell_type": "code",
   "execution_count": null,
   "metadata": {},
   "outputs": [],
   "source": []
  }
 ],
 "metadata": {
  "kernelspec": {
   "display_name": "Kotlin",
   "language": "kotlin",
   "name": "kotlin"
  },
  "language_info": {
   "codemirror_mode": "text/x-kotlin",
   "file_extension": ".kt",
   "mimetype": "text/x-kotlin",
   "name": "kotlin",
   "pygments_lexer": "kotlin",
   "version": "1.4.30-dev-2223"
  }
 },
 "nbformat": 4,
 "nbformat_minor": 4
}
